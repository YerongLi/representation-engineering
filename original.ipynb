{
 "cells": [
  {
   "cell_type": "code",
   "execution_count": 1,
   "id": "e945533a-3f51-45a2-966e-95830e4293f2",
   "metadata": {},
   "outputs": [
    {
     "name": "stderr",
     "output_type": "stream",
     "text": [
      "/home/yerong2/local/miniconda3/envs/mllm/lib/python3.11/site-packages/tqdm/auto.py:21: TqdmWarning: IProgress not found. Please update jupyter and ipywidgets. See https://ipywidgets.readthedocs.io/en/stable/user_install.html\n",
      "  from .autonotebook import tqdm as notebook_tqdm\n",
      "You are using a model of type internlmxcomposer2 to instantiate a model of type internlm. This is not supported for all configurations of models and can yield errors.\n",
      "You are using a model of type internlmxcomposer2 to instantiate a model of type internlm. This is not supported for all configurations of models and can yield errors.\n",
      "You are using a model of type internlmxcomposer2 to instantiate a model of type internlm. This is not supported for all configurations of models and can yield errors.\n"
     ]
    },
    {
     "name": "stdout",
     "output_type": "stream",
     "text": [
      "Set max length to 4096\n"
     ]
    },
    {
     "name": "stderr",
     "output_type": "stream",
     "text": [
      "You are using a model of type internlmxcomposer2 to instantiate a model of type internlm. This is not supported for all configurations of models and can yield errors.\n",
      "You are using a model of type internlmxcomposer2 to instantiate a model of type internlm. This is not supported for all configurations of models and can yield errors.\n",
      "You are using a model of type internlmxcomposer2 to instantiate a model of type internlm. This is not supported for all configurations of models and can yield errors.\n",
      "You are using a model of type internlmxcomposer2 to instantiate a model of type internlm. This is not supported for all configurations of models and can yield errors.\n",
      "                                                                                                                                                             \r"
     ]
    },
    {
     "name": "stdout",
     "output_type": "stream",
     "text": [
      "[WARNING] gemm_config.in is not found; using default GEMM algo\n",
      "The image depicts a majestic tiger, its fur a striking pattern of orange and black stripes, lying comfortably on a lush green lawn. The tiger's gaze is directed towards the camera, giving the viewer a sense of connection with this magnificent creature. The tiger's relaxed posture suggests a moment of tranquility in its natural habitat. The background is blurred, drawing focus to the tiger and emphasizing its presence in the scene. The image captures the beauty and power of the tiger in a serene setting.\n"
     ]
    }
   ],
   "source": [
    "%load_ext autoreload\n",
    "%autoreload 2\n",
    "import nest_asyncio\n",
    "nest_asyncio.apply()\n",
    "    \n",
    "from lmdeploy import TurbomindEngineConfig, pipeline\n",
    "from lmdeploy.vl import load_image\n",
    "model_name_or_path = \"/home/yerong2/models/internlm-xcomposer2-vl-7b\"\n",
    "# backend_config = TurbomindEngineConfig(cache_max_entry_count=0.2)\n",
    "pipe = pipeline(model_name_or_path,device_map=\"auto\")\n",
    "image = load_image('tiger.jpeg')\n",
    "response = pipe(('describe this image', image))\n",
    "print(response.text)"
   ]
  }
 ],
 "metadata": {
  "kernelspec": {
   "display_name": "Python 3 (ipykernel)",
   "language": "python",
   "name": "python3"
  },
  "language_info": {
   "codemirror_mode": {
    "name": "ipython",
    "version": 3
   },
   "file_extension": ".py",
   "mimetype": "text/x-python",
   "name": "python",
   "nbconvert_exporter": "python",
   "pygments_lexer": "ipython3",
   "version": "3.11.9"
  }
 },
 "nbformat": 4,
 "nbformat_minor": 5
}
