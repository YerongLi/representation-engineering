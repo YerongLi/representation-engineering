{
 "cells": [
  {
   "cell_type": "code",
   "execution_count": null,
   "id": "e945533a-3f51-45a2-966e-95830e4293f2",
   "metadata": {},
   "outputs": [],
   "source": [
    "%load_ext autoreload\n",
    "%autoreload 2\n",
    "import nest_asyncio\n",
    "nest_asyncio.apply()\n",
    "    \n",
    "from lmdeploy import TurbomindEngineConfig, pipeline\n",
    "from lmdeploy.vl import load_image\n",
    "model_name_or_path = \"/home/yerong2/models/internlm-xcomposer2-vl-7b\"\n",
    "# backend_config = TurbomindEngineConfig(cache_max_entry_count=0.2)\n",
    "pipe = pipeline(model_name_or_path,device_map=\"auto\")\n",
    "\n",
    "image = load_image('tiger.jpeg')\n",
    "response = pipe(('describe this image', image))\n",
    "print(response.text)\n",
    "print(pipe.model)"
   ]
  },
  {
   "cell_type": "code",
   "execution_count": 1,
   "id": "6e24727f-711e-47f9-99d4-1ee21d14960d",
   "metadata": {},
   "outputs": [
    {
     "name": "stderr",
     "output_type": "stream",
     "text": [
      "/home/yerong2/local/miniconda3/envs/mllm/lib/python3.11/site-packages/tqdm/auto.py:21: TqdmWarning: IProgress not found. Please update jupyter and ipywidgets. See https://ipywidgets.readthedocs.io/en/stable/user_install.html\n",
      "  from .autonotebook import tqdm as notebook_tqdm\n",
      "/home/yerong2/local/miniconda3/envs/mllm/lib/python3.11/site-packages/transformers/utils/generic.py:441: UserWarning: torch.utils._pytree._register_pytree_node is deprecated. Please use torch.utils._pytree.register_pytree_node instead.\n",
      "  _torch_pytree._register_pytree_node(\n",
      "The argument `trust_remote_code` is to be used with Auto classes. It has no effect here and is ignored.\n",
      "You are using a model of type internlmxcomposer2 to instantiate a model of type internlm. This is not supported for all configurations of models and can yield errors.\n"
     ]
    },
    {
     "name": "stdout",
     "output_type": "stream",
     "text": [
      "Set max length to 4096\n",
      "Position interpolate from 24x24 to 35x35\n"
     ]
    },
    {
     "name": "stderr",
     "output_type": "stream",
     "text": [
      "Loading checkpoint shards: 100%|███████████████████████████████████████████████████████████████████████████████████████████████| 2/2 [00:08<00:00,  4.03s/it]\n",
      "Some weights of InternLMXComposer2ForCausalLM were not initialized from the model checkpoint at /home/yerong2/models/internlm-xcomposer2-vl-7b and are newly initialized: ['vit.vision_tower.vision_model.post_layernorm.bias', 'vit.vision_tower.vision_model.post_layernorm.weight']\n",
      "You should probably TRAIN this model on a down-stream task to be able to use it for predictions and inference.\n"
     ]
    },
    {
     "name": "stdout",
     "output_type": "stream",
     "text": [
      "{}\n",
      "In the image, a majestic tiger is resting on a grassy field. The tiger's fur is a striking mix of orange and black stripes, with its head turned slightly to the left as it gazes directly into the camera. The background is a lush green field dotted with trees, providing a natural setting for this powerful creature. The tiger appears relaxed and at ease in its environment, embodying the serene atmosphere of the scene.\n"
     ]
    }
   ],
   "source": [
    "# import torch\n",
    "# from transformers import AutoTokenizer, AutoModelForCausalLM\n",
    "# from repe.modeling_internlm_xcomposer2 import InternLMXComposer2ForCausalLM\n",
    "# ckpt_path = \"/home/yerong2/models/internlm-xcomposer2-vl-7b\"\n",
    "# tokenizer = AutoTokenizer.from_pretrained(ckpt_path, trust_remote_code=True)\n",
    "# # Set `torch_dtype=torch.float16` to load model in float16, otherwise it will be loaded as float32 and might cause OOM Error.\n",
    "# with torch.cuda.amp.autocast():\n",
    "#     model = InternLMXComposer2ForCausalLM.from_pretrained(ckpt_path, torch_dtype=torch.float16, trust_remote_code=True, device_map='auto')\n",
    "#     query = '<ImageHere>Please describe this image in detail.'\n",
    "#     image = './tiger.jpeg'\n",
    "#     response, _ = model.chat(tokenizer, query=query, image=image, history=[], do_sample=False)\n",
    "# print(response)\n",
    "import torch\n",
    "from transformers import AutoModel, AutoTokenizer\n",
    "from repe.modeling_internlm_xcomposer2 import InternLMXComposer2ForCausalLM\n",
    "\n",
    "from repe.mllm_utils import auto_configure_device_map\n",
    "\n",
    "\n",
    "model_name_or_path = \"/home/yerong2/models/internlm-xcomposer2-vl-7b\"\n",
    "\n",
    "model = InternLMXComposer2ForCausalLM.from_pretrained(model_name_or_path, trust_remote_code=True).eval()\n",
    "\n",
    "from accelerate import dispatch_model\n",
    "device_map = auto_configure_device_map(3)\n",
    "model = dispatch_model(model, device_map=device_map)\n",
    "\n",
    "tokenizer = AutoTokenizer.from_pretrained(model_name_or_path, trust_remote_code=True)\n",
    "model.tokenizer = tokenizer\n",
    "\n",
    "query = '<ImageHere>Please describe this image'\n",
    "# image = ['../tiger.jpeg']\n",
    "image = 'tiger.jpeg'\n",
    "with torch.autocast(device_type='cuda', dtype=torch.float16):\n",
    "    # response, _ = model.chat(tokenizer, query, image, do_sample=False, num_beams=3, use_meta=True)\n",
    "      response, _ = model.chat(tokenizer, query=query, image=image, history=[], do_sample=False)\n",
    "\n",
    "print(response)"
   ]
  }
 ],
 "metadata": {
  "kernelspec": {
   "display_name": "Python 3 (ipykernel)",
   "language": "python",
   "name": "python3"
  },
  "language_info": {
   "codemirror_mode": {
    "name": "ipython",
    "version": 3
   },
   "file_extension": ".py",
   "mimetype": "text/x-python",
   "name": "python",
   "nbconvert_exporter": "python",
   "pygments_lexer": "ipython3",
   "version": "3.11.9"
  }
 },
 "nbformat": 4,
 "nbformat_minor": 5
}
