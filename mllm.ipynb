{
 "cells": [
  {
   "cell_type": "code",
   "execution_count": 1,
   "id": "766f7b52-603d-451e-8a6c-46f3b89394d2",
   "metadata": {},
   "outputs": [],
   "source": [
    "%load_ext autoreload\n",
    "%autoreload 2"
   ]
  },
  {
   "cell_type": "code",
   "execution_count": null,
   "id": "75644780-ff3e-47ac-a5f3-50158c4a259d",
   "metadata": {},
   "outputs": [],
   "source": [
    "from transformers import AutoTokenizer, AutoConfig, pipeline, AutoModelForCausalLM\n",
    "import torch\n",
    "import numpy as np\n",
    "from tqdm import tqdm\n",
    "from datasets import load_dataset\n",
    "from functools import partial\n",
    "from repe.mllm_utils import auto_configure_device_map\n",
    "from repe.mllm_rep_control_contrast_vec import ContrastVecInternlmForCausalLM\n",
    "from repe.modeling_internlm_xcomposer2 import InternLMXComposer2ForCausalLM\n",
    "\n",
    "model_name_or_path = \"/home/yerong2/models/internlm-xcomposer2-vl-7b\"\n",
    "\n",
    "model = ContrastVecInternlmForCausalLM.from_pretrained(model_name_or_path, trust_remote_code=True).eval()\n",
    "# model = InternLMXComposer2ForCausalLM.from_pretrained(model_name_or_path, trust_remote_code=True).eval()\n",
    "\n",
    "from accelerate import dispatch_model\n",
    "device_map = auto_configure_device_map(3)\n",
    "model = dispatch_model(model, device_map=device_map)\n",
    "\n",
    "tokenizer = AutoTokenizer.from_pretrained(model_name_or_path, trust_remote_code=True)\n",
    "model.tokenizer = tokenizer\n",
    "\n",
    "query = '<ImageHere>Please describe this image'\n",
    "# image = ['../tiger.jpeg']\n",
    "image = 'tiger.jpeg'\n",
    "with torch.autocast(device_type='cuda', dtype=torch.float16):\n",
    "    # response, _ = model.chat(tokenizer, query, image, do_sample=False, num_beams=3, use_meta=True)\n",
    "      response, _ = model.chat(tokenizer, query=query, image=image, history=[], do_sample=False)\n",
    "\n",
    "print(response)"
   ]
  }
 ],
 "metadata": {
  "kernelspec": {
   "display_name": "Python 3 (ipykernel)",
   "language": "python",
   "name": "python3"
  },
  "language_info": {
   "codemirror_mode": {
    "name": "ipython",
    "version": 3
   },
   "file_extension": ".py",
   "mimetype": "text/x-python",
   "name": "python",
   "nbconvert_exporter": "python",
   "pygments_lexer": "ipython3",
   "version": "3.11.9"
  }
 },
 "nbformat": 4,
 "nbformat_minor": 5
}
